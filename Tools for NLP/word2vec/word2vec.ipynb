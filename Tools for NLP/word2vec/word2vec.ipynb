{
 "cells": [
  {
   "cell_type": "code",
   "execution_count": 1,
   "metadata": {},
   "outputs": [
    {
     "name": "stderr",
     "output_type": "stream",
     "text": [
      "Using TensorFlow backend.\n"
     ]
    }
   ],
   "source": [
    "from gensim.models import Word2Vec\n",
    "from nltk.corpus import brown,movie_reviews,treebank"
   ]
  },
  {
   "cell_type": "code",
   "execution_count": 2,
   "metadata": {
    "collapsed": true
   },
   "outputs": [],
   "source": [
    "b=Word2Vec(brown.sents())\n",
    "mr=Word2Vec(movie_reviews.sents())\n",
    "t=Word2Vec(treebank.sents())"
   ]
  },
  {
   "cell_type": "code",
   "execution_count": 3,
   "metadata": {},
   "outputs": [
    {
     "name": "stdout",
     "output_type": "stream",
     "text": [
      "[(u'care', 0.9145620465278625), (u'chance', 0.903496503829956), (u'job', 0.8980700373649597), (u'trouble', 0.8751336336135864), (u'everything', 0.8738477230072021)]\n"
     ]
    }
   ],
   "source": [
    "print b.most_similar('money',topn=5)"
   ]
  },
  {
   "cell_type": "code",
   "execution_count": 14,
   "metadata": {},
   "outputs": [
    {
     "name": "stdout",
     "output_type": "stream",
     "text": [
      "[(u'bad', 0.8526572585105896), (u'nice', 0.8246766328811646), (u'great', 0.7939408421516418), (u'funny', 0.765585720539093), (u'cool', 0.7479946613311768), (u'decent', 0.7375099658966064), (u'scary', 0.7123709917068481), (u'perfect', 0.6998133659362793), (u'fine', 0.6647747159004211), (u'fun', 0.6548999547958374)]\n"
     ]
    }
   ],
   "source": [
    "k=raw_input()\n",
    "try:\n",
    "    print mr.most_similar(str(k))\n",
    "except:\n",
    "    print (\"word not in the corpus\")"
   ]
  }
 ],
 "metadata": {
  "kernelspec": {
   "display_name": "Python 2",
   "language": "python",
   "name": "python2"
  },
  "language_info": {
   "codemirror_mode": {
    "name": "ipython",
    "version": 2.0
   },
   "file_extension": ".py",
   "mimetype": "text/x-python",
   "name": "python",
   "nbconvert_exporter": "python",
   "pygments_lexer": "ipython2",
   "version": "2.7.12+"
  }
 },
 "nbformat": 4,
 "nbformat_minor": 0
}